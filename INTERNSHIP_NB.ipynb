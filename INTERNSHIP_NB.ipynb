{
  "nbformat": 4,
  "nbformat_minor": 0,
  "metadata": {
    "colab": {
      "name": "INTERNSHIP NB.ipynb",
      "provenance": [],
      "collapsed_sections": []
    },
    "kernelspec": {
      "name": "python3",
      "display_name": "Python 3"
    },
    "language_info": {
      "name": "python"
    }
  },
  "cells": [
    {
      "cell_type": "code",
      "execution_count": 1,
      "metadata": {
        "id": "EPXX8CoV_3UC"
      },
      "outputs": [],
      "source": [
        "import numpy as np \n",
        "import pandas as pd\n",
        "import os\n",
        "import librosa\n",
        "import wave\n",
        "import matplotlib.pyplot as plt\n",
        "\n",
        "#MLP Classifier\n",
        "from sklearn.model_selection import train_test_split\n",
        "from sklearn.neural_network import MLPClassifier\n",
        "from sklearn.metrics import accuracy_score\n",
        "\n",
        "#LSTM Classifier\n",
        "import keras\n",
        "from tensorflow.keras.utils import to_categorical\n",
        "from keras.layers import *\n",
        "from keras.optimizer_v1 import rmsprop\n",
        "from keras.models import Sequential\n"
      ]
    },
    {
      "cell_type": "code",
      "source": [
        "from google.colab import drive\n",
        "drive.mount('/content/drive')"
      ],
      "metadata": {
        "colab": {
          "base_uri": "https://localhost:8080/"
        },
        "id": "-O324usPAFDx",
        "outputId": "9f9f7178-3ea4-474b-ce91-822ae3a6730c"
      },
      "execution_count": 3,
      "outputs": [
        {
          "output_type": "stream",
          "name": "stdout",
          "text": [
            "Mounted at /content/drive\n"
          ]
        }
      ]
    },
    {
      "cell_type": "code",
      "source": [
        "def extract_mfcc(wav_file_name):\n",
        "  y,sr = librosa.load(wav_file_name)\n",
        "  mfccs = np.mean(librosa.feature.mfcc(y=y,sr=sr,n_mfcc=40).T,axis=0)\n",
        "  return mfccs\n",
        "#This function extracts mfcc features and obtain the mean of each dimension  "
      ],
      "metadata": {
        "id": "VxooF7vNALl6"
      },
      "execution_count": 4,
      "outputs": []
    },
    {
      "cell_type": "code",
      "source": [
        "#load radvess speech data\n",
        "radvess_speech_labels = []\n",
        "ravdess_speech_data = []\n",
        "for dirname, _,filenames in os.walk('/content/drive/MyDrive/RAVDESS_dataset'):\n",
        "  for filename in filenames:\n",
        "    #print(os.path.join(dirname,filename))\n",
        "    radvess_speech_labels.append(int(filename[7:8])-1)\n",
        "    wav_file_name =os.path.join(dirname , filename)\n",
        "    ravdess_speech_data.append(extract_mfcc(wav_file_name))\n"
      ],
      "metadata": {
        "id": "QPH0qKtuAmBS"
      },
      "execution_count": 7,
      "outputs": []
    },
    {
      "cell_type": "code",
      "source": [
        "# Convert data and label into array\n",
        "ravdess_speech_data_array = np.asarray(ravdess_speech_data)#convert input to array\n",
        "ravdess_speech_label_array= np.array(radvess_speech_labels)\n",
        "ravdess_speech_label_array.shape #get tuple of array dimensions\n",
        "\n",
        "# Make Categorical Label\n",
        "labels_categorical=to_categorical(ravdess_speech_label_array) #converts a class vector to binary class maatrix\n",
        "labels_categorical.shape"
      ],
      "metadata": {
        "colab": {
          "base_uri": "https://localhost:8080/"
        },
        "id": "OlNS07RZAvaT",
        "outputId": "51820f76-ec81-4cd6-dbc7-739062c2d655"
      },
      "execution_count": 8,
      "outputs": [
        {
          "output_type": "execute_result",
          "data": {
            "text/plain": [
              "(2880, 8)"
            ]
          },
          "metadata": {},
          "execution_count": 8
        }
      ]
    },
    {
      "cell_type": "code",
      "source": [
        "ravdess_speech_data_array"
      ],
      "metadata": {
        "colab": {
          "base_uri": "https://localhost:8080/"
        },
        "id": "UTlYfO1BBhoI",
        "outputId": "1af04d38-ff07-40f1-d3dc-0a82092a31ee"
      },
      "execution_count": 9,
      "outputs": [
        {
          "output_type": "execute_result",
          "data": {
            "text/plain": [
              "array([[-5.1799835e+02,  4.8429356e+01, -1.0631230e+01, ...,\n",
              "         2.3883212e+00,  8.8436288e-01,  2.3764186e+00],\n",
              "       [-6.8108868e+02,  6.1208931e+01, -2.3614292e+00, ...,\n",
              "        -2.2848036e+00, -3.8168232e+00, -2.8076391e+00],\n",
              "       [-5.6009265e+02,  5.5183109e+01, -1.1826187e+01, ...,\n",
              "         5.3804755e+00,  1.5510942e+00,  8.8581719e-02],\n",
              "       ...,\n",
              "       [-7.2000500e+02,  6.5815186e+01,  1.5437222e+01, ...,\n",
              "        -1.3958163e+00, -1.1191156e+00,  1.8445227e+00],\n",
              "       [-6.5655389e+02,  6.0970013e+01,  3.0853388e+00, ...,\n",
              "         5.1782519e-01, -3.6148798e-01,  2.0628829e+00],\n",
              "       [-6.8630719e+02,  5.0729275e+01,  7.4229641e+00, ...,\n",
              "        -8.9154261e-01, -2.0591693e+00,  3.4679604e-01]], dtype=float32)"
            ]
          },
          "metadata": {},
          "execution_count": 9
        }
      ]
    },
    {
      "cell_type": "code",
      "source": [
        "x_train,x_test,y_train,_y_test = train_test_split(np.array(ravdess_speech_data_array),labels_categorical,test_size=0.20,random_state=9)"
      ],
      "metadata": {
        "id": "RSqitiYwAvXa"
      },
      "execution_count": 10,
      "outputs": []
    },
    {
      "cell_type": "code",
      "source": [
        "#Splitting training, validating,testing sets\n",
        "number_of_samples=ravdess_speech_data_array.shape[0]\n",
        "training_samples= int(number_of_samples * 0.8)\n",
        "validation_samples = int(number_of_samples *0.1)\n",
        "test_samples=int(number_of_samples * 0.1)"
      ],
      "metadata": {
        "id": "IiUCePQOAvS_"
      },
      "execution_count": 11,
      "outputs": []
    },
    {
      "cell_type": "code",
      "source": [
        "#Define the LSTM Model\n",
        "def create_model_LSTM():\n",
        "  model = Sequential()\n",
        "  model.add(LSTM(128,return_sequences=False, input_shape=(40,1)))\n",
        "  model.add(Dense(64))\n",
        "  model.add(Dropout(0.4))\n",
        "  model.add(Activation('relu'))\n",
        "  model.add(Dense(32))\n",
        "  model.add(Dropout(0.4))\n",
        "  model.add(Activation('relu'))\n",
        "  model.add(Dense(8))\n",
        "  model.add(Activation('softmax'))\n",
        "\n",
        "  #Configure the model for training\n",
        "  model.compile(loss='categorical_crossentropy', optimizer='Adam',metrics=['accuracy'])\n",
        "  return model"
      ],
      "metadata": {
        "id": "V3GITrTPAvR8"
      },
      "execution_count": 12,
      "outputs": []
    },
    {
      "cell_type": "code",
      "source": [
        "w=np.expand_dims(ravdess_speech_data_array[:training_samples],-1)"
      ],
      "metadata": {
        "id": "GduJnUBpAvNi"
      },
      "execution_count": 13,
      "outputs": []
    },
    {
      "cell_type": "code",
      "source": [
        "w.shape"
      ],
      "metadata": {
        "colab": {
          "base_uri": "https://localhost:8080/"
        },
        "id": "tRU8Js9wAvMj",
        "outputId": "b4e4b8a1-73b0-4539-e100-6d39e9557fec"
      },
      "execution_count": 14,
      "outputs": [
        {
          "output_type": "execute_result",
          "data": {
            "text/plain": [
              "(2304, 40, 1)"
            ]
          },
          "metadata": {},
          "execution_count": 14
        }
      ]
    },
    {
      "cell_type": "code",
      "source": [
        "#Train using LSTM Model\n",
        "model_A = create_model_LSTM()\n",
        "history = model_A.fit(np.expand_dims(ravdess_speech_data_array[:training_samples],-1), labels_categorical[:training_samples],validation_data=(np.expand_dims(ravdess_speech_data_array[training_samples:training_samples+validation_samples],-1),labels_categorical[training_samples:training_samples+validation_samples]), epochs=130 , shuffle=True)"
      ],
      "metadata": {
        "colab": {
          "base_uri": "https://localhost:8080/"
        },
        "id": "pmbnD9PKAvIj",
        "outputId": "da99a406-daee-45c8-a43a-67fadb6f274b"
      },
      "execution_count": 16,
      "outputs": [
        {
          "output_type": "stream",
          "name": "stdout",
          "text": [
            "Epoch 1/130\n",
            "72/72 [==============================] - 6s 53ms/step - loss: 2.0665 - accuracy: 0.1510 - val_loss: 2.0229 - val_accuracy: 0.2083\n",
            "Epoch 2/130\n",
            "72/72 [==============================] - 3s 43ms/step - loss: 2.0002 - accuracy: 0.2114 - val_loss: 1.8730 - val_accuracy: 0.3403\n",
            "Epoch 3/130\n",
            "72/72 [==============================] - 3s 42ms/step - loss: 1.9369 - accuracy: 0.2470 - val_loss: 1.7931 - val_accuracy: 0.3368\n",
            "Epoch 4/130\n",
            "72/72 [==============================] - 3s 43ms/step - loss: 1.8989 - accuracy: 0.2669 - val_loss: 1.7367 - val_accuracy: 0.3715\n",
            "Epoch 5/130\n",
            "72/72 [==============================] - 3s 42ms/step - loss: 1.8623 - accuracy: 0.2669 - val_loss: 1.6922 - val_accuracy: 0.3750\n",
            "Epoch 6/130\n",
            "72/72 [==============================] - 3s 42ms/step - loss: 1.8461 - accuracy: 0.2765 - val_loss: 1.6762 - val_accuracy: 0.3472\n",
            "Epoch 7/130\n",
            "72/72 [==============================] - 3s 43ms/step - loss: 1.8317 - accuracy: 0.2934 - val_loss: 1.6722 - val_accuracy: 0.3681\n",
            "Epoch 8/130\n",
            "72/72 [==============================] - 3s 43ms/step - loss: 1.8064 - accuracy: 0.2869 - val_loss: 1.7077 - val_accuracy: 0.3438\n",
            "Epoch 9/130\n",
            "72/72 [==============================] - 3s 42ms/step - loss: 1.7877 - accuracy: 0.2995 - val_loss: 1.7265 - val_accuracy: 0.3125\n",
            "Epoch 10/130\n",
            "72/72 [==============================] - 3s 42ms/step - loss: 1.7725 - accuracy: 0.3060 - val_loss: 1.6896 - val_accuracy: 0.3160\n",
            "Epoch 11/130\n",
            "72/72 [==============================] - 3s 42ms/step - loss: 1.7598 - accuracy: 0.3181 - val_loss: 1.6268 - val_accuracy: 0.3646\n",
            "Epoch 12/130\n",
            "72/72 [==============================] - 4s 56ms/step - loss: 1.7612 - accuracy: 0.3090 - val_loss: 1.6265 - val_accuracy: 0.3924\n",
            "Epoch 13/130\n",
            "72/72 [==============================] - 3s 42ms/step - loss: 1.7187 - accuracy: 0.3247 - val_loss: 1.7490 - val_accuracy: 0.3194\n",
            "Epoch 14/130\n",
            "72/72 [==============================] - 3s 42ms/step - loss: 1.7052 - accuracy: 0.3464 - val_loss: 1.7285 - val_accuracy: 0.3090\n",
            "Epoch 15/130\n",
            "72/72 [==============================] - 3s 42ms/step - loss: 1.7082 - accuracy: 0.3459 - val_loss: 1.5800 - val_accuracy: 0.4271\n",
            "Epoch 16/130\n",
            "72/72 [==============================] - 3s 42ms/step - loss: 1.6493 - accuracy: 0.3620 - val_loss: 1.5885 - val_accuracy: 0.3785\n",
            "Epoch 17/130\n",
            "72/72 [==============================] - 3s 42ms/step - loss: 1.6435 - accuracy: 0.3746 - val_loss: 1.6333 - val_accuracy: 0.3819\n",
            "Epoch 18/130\n",
            "72/72 [==============================] - 3s 42ms/step - loss: 1.6257 - accuracy: 0.3802 - val_loss: 1.5550 - val_accuracy: 0.4167\n",
            "Epoch 19/130\n",
            "72/72 [==============================] - 3s 42ms/step - loss: 1.5951 - accuracy: 0.3889 - val_loss: 1.5543 - val_accuracy: 0.3924\n",
            "Epoch 20/130\n",
            "72/72 [==============================] - 3s 43ms/step - loss: 1.5975 - accuracy: 0.3898 - val_loss: 1.5138 - val_accuracy: 0.4271\n",
            "Epoch 21/130\n",
            "72/72 [==============================] - 3s 43ms/step - loss: 1.5895 - accuracy: 0.3819 - val_loss: 1.4691 - val_accuracy: 0.4653\n",
            "Epoch 22/130\n",
            "72/72 [==============================] - 3s 42ms/step - loss: 1.5386 - accuracy: 0.3950 - val_loss: 1.4711 - val_accuracy: 0.4271\n",
            "Epoch 23/130\n",
            "72/72 [==============================] - 3s 42ms/step - loss: 1.5338 - accuracy: 0.4002 - val_loss: 1.4267 - val_accuracy: 0.4306\n",
            "Epoch 24/130\n",
            "72/72 [==============================] - 3s 43ms/step - loss: 1.4927 - accuracy: 0.4232 - val_loss: 1.4365 - val_accuracy: 0.4410\n",
            "Epoch 25/130\n",
            "72/72 [==============================] - 3s 42ms/step - loss: 1.5004 - accuracy: 0.4280 - val_loss: 1.4565 - val_accuracy: 0.4201\n",
            "Epoch 26/130\n",
            "72/72 [==============================] - 3s 42ms/step - loss: 1.4514 - accuracy: 0.4436 - val_loss: 1.4555 - val_accuracy: 0.4444\n",
            "Epoch 27/130\n",
            "72/72 [==============================] - 3s 43ms/step - loss: 1.4742 - accuracy: 0.4427 - val_loss: 1.4103 - val_accuracy: 0.4410\n",
            "Epoch 28/130\n",
            "72/72 [==============================] - 4s 61ms/step - loss: 1.4390 - accuracy: 0.4479 - val_loss: 1.3990 - val_accuracy: 0.4306\n",
            "Epoch 29/130\n",
            "72/72 [==============================] - 3s 44ms/step - loss: 1.4145 - accuracy: 0.4627 - val_loss: 1.3753 - val_accuracy: 0.4722\n",
            "Epoch 30/130\n",
            "72/72 [==============================] - 3s 42ms/step - loss: 1.4053 - accuracy: 0.4605 - val_loss: 1.5263 - val_accuracy: 0.4271\n",
            "Epoch 31/130\n",
            "72/72 [==============================] - 3s 43ms/step - loss: 1.3967 - accuracy: 0.4740 - val_loss: 1.3284 - val_accuracy: 0.4965\n",
            "Epoch 32/130\n",
            "72/72 [==============================] - 3s 43ms/step - loss: 1.3607 - accuracy: 0.4848 - val_loss: 1.4771 - val_accuracy: 0.4410\n",
            "Epoch 33/130\n",
            "72/72 [==============================] - 3s 43ms/step - loss: 1.3273 - accuracy: 0.4874 - val_loss: 1.4024 - val_accuracy: 0.4653\n",
            "Epoch 34/130\n",
            "72/72 [==============================] - 3s 42ms/step - loss: 1.3066 - accuracy: 0.4922 - val_loss: 1.3196 - val_accuracy: 0.4653\n",
            "Epoch 35/130\n",
            "72/72 [==============================] - 3s 42ms/step - loss: 1.2712 - accuracy: 0.5061 - val_loss: 1.3697 - val_accuracy: 0.4410\n",
            "Epoch 36/130\n",
            "72/72 [==============================] - 3s 43ms/step - loss: 1.2516 - accuracy: 0.5130 - val_loss: 1.2329 - val_accuracy: 0.5451\n",
            "Epoch 37/130\n",
            "72/72 [==============================] - 3s 42ms/step - loss: 1.2582 - accuracy: 0.5317 - val_loss: 1.2639 - val_accuracy: 0.5139\n",
            "Epoch 38/130\n",
            "72/72 [==============================] - 3s 42ms/step - loss: 1.3363 - accuracy: 0.5100 - val_loss: 1.2681 - val_accuracy: 0.5000\n",
            "Epoch 39/130\n",
            "72/72 [==============================] - 3s 43ms/step - loss: 1.2165 - accuracy: 0.5399 - val_loss: 1.2281 - val_accuracy: 0.5035\n",
            "Epoch 40/130\n",
            "72/72 [==============================] - 3s 43ms/step - loss: 1.1781 - accuracy: 0.5590 - val_loss: 1.1580 - val_accuracy: 0.5208\n",
            "Epoch 41/130\n",
            "72/72 [==============================] - 3s 42ms/step - loss: 1.1146 - accuracy: 0.5673 - val_loss: 1.2535 - val_accuracy: 0.5000\n",
            "Epoch 42/130\n",
            "72/72 [==============================] - 3s 43ms/step - loss: 1.1932 - accuracy: 0.5538 - val_loss: 1.1933 - val_accuracy: 0.5347\n",
            "Epoch 43/130\n",
            "72/72 [==============================] - 3s 42ms/step - loss: 1.1087 - accuracy: 0.5833 - val_loss: 1.1085 - val_accuracy: 0.6076\n",
            "Epoch 44/130\n",
            "72/72 [==============================] - 3s 42ms/step - loss: 1.0689 - accuracy: 0.5898 - val_loss: 1.0714 - val_accuracy: 0.5799\n",
            "Epoch 45/130\n",
            "72/72 [==============================] - 3s 43ms/step - loss: 1.0792 - accuracy: 0.5916 - val_loss: 1.1831 - val_accuracy: 0.5451\n",
            "Epoch 46/130\n",
            "72/72 [==============================] - 3s 42ms/step - loss: 1.0849 - accuracy: 0.5868 - val_loss: 1.0371 - val_accuracy: 0.6285\n",
            "Epoch 47/130\n",
            "72/72 [==============================] - 3s 42ms/step - loss: 1.0450 - accuracy: 0.6150 - val_loss: 1.0353 - val_accuracy: 0.6215\n",
            "Epoch 48/130\n",
            "72/72 [==============================] - 3s 42ms/step - loss: 1.0232 - accuracy: 0.6072 - val_loss: 1.0499 - val_accuracy: 0.6007\n",
            "Epoch 49/130\n",
            "72/72 [==============================] - 3s 43ms/step - loss: 1.0526 - accuracy: 0.5977 - val_loss: 1.0253 - val_accuracy: 0.5799\n",
            "Epoch 50/130\n",
            "72/72 [==============================] - 3s 43ms/step - loss: 0.9953 - accuracy: 0.6263 - val_loss: 0.9217 - val_accuracy: 0.6493\n",
            "Epoch 51/130\n",
            "72/72 [==============================] - 3s 42ms/step - loss: 0.9003 - accuracy: 0.6471 - val_loss: 0.8723 - val_accuracy: 0.6736\n",
            "Epoch 52/130\n",
            "72/72 [==============================] - 3s 42ms/step - loss: 0.9463 - accuracy: 0.6424 - val_loss: 0.9343 - val_accuracy: 0.6493\n",
            "Epoch 53/130\n",
            "72/72 [==============================] - 3s 43ms/step - loss: 0.9266 - accuracy: 0.6523 - val_loss: 0.8497 - val_accuracy: 0.6910\n",
            "Epoch 54/130\n",
            "72/72 [==============================] - 3s 43ms/step - loss: 0.8368 - accuracy: 0.6740 - val_loss: 0.9472 - val_accuracy: 0.6458\n",
            "Epoch 55/130\n",
            "72/72 [==============================] - 3s 43ms/step - loss: 0.8872 - accuracy: 0.6658 - val_loss: 0.8687 - val_accuracy: 0.6562\n",
            "Epoch 56/130\n",
            "72/72 [==============================] - 3s 43ms/step - loss: 0.8728 - accuracy: 0.6780 - val_loss: 0.8759 - val_accuracy: 0.6528\n",
            "Epoch 57/130\n",
            "72/72 [==============================] - 3s 43ms/step - loss: 0.8706 - accuracy: 0.6832 - val_loss: 0.9675 - val_accuracy: 0.6424\n",
            "Epoch 58/130\n",
            "72/72 [==============================] - 3s 43ms/step - loss: 0.9112 - accuracy: 0.6632 - val_loss: 0.8712 - val_accuracy: 0.6806\n",
            "Epoch 59/130\n",
            "72/72 [==============================] - 3s 43ms/step - loss: 0.7958 - accuracy: 0.6949 - val_loss: 0.7979 - val_accuracy: 0.6875\n",
            "Epoch 60/130\n",
            "72/72 [==============================] - 3s 43ms/step - loss: 0.7738 - accuracy: 0.7105 - val_loss: 0.8588 - val_accuracy: 0.6910\n",
            "Epoch 61/130\n",
            "72/72 [==============================] - 3s 43ms/step - loss: 0.7866 - accuracy: 0.7070 - val_loss: 0.7339 - val_accuracy: 0.7153\n",
            "Epoch 62/130\n",
            "72/72 [==============================] - 3s 43ms/step - loss: 0.7633 - accuracy: 0.7248 - val_loss: 0.7567 - val_accuracy: 0.7222\n",
            "Epoch 63/130\n",
            "72/72 [==============================] - 3s 42ms/step - loss: 0.6654 - accuracy: 0.7556 - val_loss: 0.6320 - val_accuracy: 0.7674\n",
            "Epoch 64/130\n",
            "72/72 [==============================] - 3s 43ms/step - loss: 0.7029 - accuracy: 0.7461 - val_loss: 0.9269 - val_accuracy: 0.7118\n",
            "Epoch 65/130\n",
            "72/72 [==============================] - 3s 42ms/step - loss: 0.8279 - accuracy: 0.6918 - val_loss: 0.7749 - val_accuracy: 0.7222\n",
            "Epoch 66/130\n",
            "72/72 [==============================] - 3s 43ms/step - loss: 0.7432 - accuracy: 0.7279 - val_loss: 0.7653 - val_accuracy: 0.7326\n",
            "Epoch 67/130\n",
            "72/72 [==============================] - 3s 42ms/step - loss: 0.6819 - accuracy: 0.7465 - val_loss: 0.7592 - val_accuracy: 0.7361\n",
            "Epoch 68/130\n",
            "72/72 [==============================] - 3s 43ms/step - loss: 0.6422 - accuracy: 0.7721 - val_loss: 0.6388 - val_accuracy: 0.7604\n",
            "Epoch 69/130\n",
            "72/72 [==============================] - 3s 42ms/step - loss: 0.6867 - accuracy: 0.7517 - val_loss: 0.6383 - val_accuracy: 0.7535\n",
            "Epoch 70/130\n",
            "72/72 [==============================] - 3s 43ms/step - loss: 0.6372 - accuracy: 0.7773 - val_loss: 0.5718 - val_accuracy: 0.7812\n",
            "Epoch 71/130\n",
            "72/72 [==============================] - 3s 43ms/step - loss: 0.5233 - accuracy: 0.8077 - val_loss: 0.4741 - val_accuracy: 0.8438\n",
            "Epoch 72/130\n",
            "72/72 [==============================] - 3s 44ms/step - loss: 0.5277 - accuracy: 0.8086 - val_loss: 0.4844 - val_accuracy: 0.8472\n",
            "Epoch 73/130\n",
            "72/72 [==============================] - 3s 43ms/step - loss: 0.5371 - accuracy: 0.7973 - val_loss: 0.4652 - val_accuracy: 0.8264\n",
            "Epoch 74/130\n",
            "72/72 [==============================] - 3s 43ms/step - loss: 0.6996 - accuracy: 0.7682 - val_loss: 0.7003 - val_accuracy: 0.7708\n",
            "Epoch 75/130\n",
            "72/72 [==============================] - 3s 43ms/step - loss: 0.5967 - accuracy: 0.7834 - val_loss: 0.4907 - val_accuracy: 0.8438\n",
            "Epoch 76/130\n",
            "72/72 [==============================] - 3s 43ms/step - loss: 0.4782 - accuracy: 0.8294 - val_loss: 0.4174 - val_accuracy: 0.8507\n",
            "Epoch 77/130\n",
            "72/72 [==============================] - 3s 43ms/step - loss: 0.5551 - accuracy: 0.8164 - val_loss: 0.4305 - val_accuracy: 0.8299\n",
            "Epoch 78/130\n",
            "72/72 [==============================] - 3s 44ms/step - loss: 0.5987 - accuracy: 0.8003 - val_loss: 0.7110 - val_accuracy: 0.7847\n",
            "Epoch 79/130\n",
            "72/72 [==============================] - 3s 44ms/step - loss: 0.5336 - accuracy: 0.8229 - val_loss: 0.4407 - val_accuracy: 0.8403\n",
            "Epoch 80/130\n",
            "72/72 [==============================] - 3s 43ms/step - loss: 0.4503 - accuracy: 0.8503 - val_loss: 0.3107 - val_accuracy: 0.8924\n",
            "Epoch 81/130\n",
            "72/72 [==============================] - 3s 43ms/step - loss: 0.3952 - accuracy: 0.8633 - val_loss: 0.3262 - val_accuracy: 0.8924\n",
            "Epoch 82/130\n",
            "72/72 [==============================] - 3s 43ms/step - loss: 0.3572 - accuracy: 0.8806 - val_loss: 0.2659 - val_accuracy: 0.9132\n",
            "Epoch 83/130\n",
            "72/72 [==============================] - 3s 44ms/step - loss: 0.3492 - accuracy: 0.8785 - val_loss: 0.2904 - val_accuracy: 0.8924\n",
            "Epoch 84/130\n",
            "72/72 [==============================] - 3s 43ms/step - loss: 0.3781 - accuracy: 0.8694 - val_loss: 0.2653 - val_accuracy: 0.9062\n",
            "Epoch 85/130\n",
            "72/72 [==============================] - 3s 43ms/step - loss: 0.3646 - accuracy: 0.8733 - val_loss: 0.3092 - val_accuracy: 0.9097\n",
            "Epoch 86/130\n",
            "72/72 [==============================] - 3s 43ms/step - loss: 0.4903 - accuracy: 0.8511 - val_loss: 0.4068 - val_accuracy: 0.8750\n",
            "Epoch 87/130\n",
            "72/72 [==============================] - 3s 43ms/step - loss: 0.4718 - accuracy: 0.8464 - val_loss: 0.5003 - val_accuracy: 0.8299\n",
            "Epoch 88/130\n",
            "72/72 [==============================] - 3s 43ms/step - loss: 0.5175 - accuracy: 0.8333 - val_loss: 0.4114 - val_accuracy: 0.8576\n",
            "Epoch 89/130\n",
            "72/72 [==============================] - 3s 43ms/step - loss: 0.4388 - accuracy: 0.8615 - val_loss: 0.4149 - val_accuracy: 0.8715\n",
            "Epoch 90/130\n",
            "72/72 [==============================] - 3s 42ms/step - loss: 0.4631 - accuracy: 0.8581 - val_loss: 0.3862 - val_accuracy: 0.8576\n",
            "Epoch 91/130\n",
            "72/72 [==============================] - 3s 43ms/step - loss: 0.4401 - accuracy: 0.8563 - val_loss: 0.4001 - val_accuracy: 0.8646\n",
            "Epoch 92/130\n",
            "72/72 [==============================] - 3s 43ms/step - loss: 0.3655 - accuracy: 0.8772 - val_loss: 0.2941 - val_accuracy: 0.9028\n",
            "Epoch 93/130\n",
            "72/72 [==============================] - 3s 43ms/step - loss: 0.3188 - accuracy: 0.8989 - val_loss: 0.2165 - val_accuracy: 0.9236\n",
            "Epoch 94/130\n",
            "72/72 [==============================] - 3s 43ms/step - loss: 0.2625 - accuracy: 0.9102 - val_loss: 0.1990 - val_accuracy: 0.9410\n",
            "Epoch 95/130\n",
            "72/72 [==============================] - 3s 43ms/step - loss: 0.2853 - accuracy: 0.9076 - val_loss: 0.2446 - val_accuracy: 0.9132\n",
            "Epoch 96/130\n",
            "72/72 [==============================] - 3s 43ms/step - loss: 0.3174 - accuracy: 0.9036 - val_loss: 0.2181 - val_accuracy: 0.9375\n",
            "Epoch 97/130\n",
            "72/72 [==============================] - 3s 43ms/step - loss: 0.2773 - accuracy: 0.9049 - val_loss: 0.2160 - val_accuracy: 0.9236\n",
            "Epoch 98/130\n",
            "72/72 [==============================] - 3s 42ms/step - loss: 0.3978 - accuracy: 0.8759 - val_loss: 0.3135 - val_accuracy: 0.8958\n",
            "Epoch 99/130\n",
            "72/72 [==============================] - 3s 42ms/step - loss: 0.3648 - accuracy: 0.8872 - val_loss: 0.2049 - val_accuracy: 0.9375\n",
            "Epoch 100/130\n",
            "72/72 [==============================] - 3s 43ms/step - loss: 0.2613 - accuracy: 0.9232 - val_loss: 0.1378 - val_accuracy: 0.9688\n",
            "Epoch 101/130\n",
            "72/72 [==============================] - 3s 43ms/step - loss: 0.2292 - accuracy: 0.9284 - val_loss: 0.2423 - val_accuracy: 0.9132\n",
            "Epoch 102/130\n",
            "72/72 [==============================] - 3s 43ms/step - loss: 0.2920 - accuracy: 0.9089 - val_loss: 0.2078 - val_accuracy: 0.9306\n",
            "Epoch 103/130\n",
            "72/72 [==============================] - 3s 43ms/step - loss: 0.2790 - accuracy: 0.9197 - val_loss: 0.3492 - val_accuracy: 0.9028\n",
            "Epoch 104/130\n",
            "72/72 [==============================] - 3s 43ms/step - loss: 0.3869 - accuracy: 0.8885 - val_loss: 0.2290 - val_accuracy: 0.9062\n",
            "Epoch 105/130\n",
            "72/72 [==============================] - 3s 42ms/step - loss: 0.2300 - accuracy: 0.9271 - val_loss: 0.1404 - val_accuracy: 0.9549\n",
            "Epoch 106/130\n",
            "72/72 [==============================] - 3s 43ms/step - loss: 0.3955 - accuracy: 0.8828 - val_loss: 0.3493 - val_accuracy: 0.8854\n",
            "Epoch 107/130\n",
            "72/72 [==============================] - 3s 43ms/step - loss: 0.2670 - accuracy: 0.9136 - val_loss: 0.1518 - val_accuracy: 0.9618\n",
            "Epoch 108/130\n",
            "72/72 [==============================] - 3s 43ms/step - loss: 0.2013 - accuracy: 0.9375 - val_loss: 0.2440 - val_accuracy: 0.9236\n",
            "Epoch 109/130\n",
            "72/72 [==============================] - 3s 44ms/step - loss: 0.3141 - accuracy: 0.9041 - val_loss: 0.2384 - val_accuracy: 0.9236\n",
            "Epoch 110/130\n",
            "72/72 [==============================] - 3s 43ms/step - loss: 0.4442 - accuracy: 0.8650 - val_loss: 0.2853 - val_accuracy: 0.9236\n",
            "Epoch 111/130\n",
            "72/72 [==============================] - 3s 44ms/step - loss: 0.2475 - accuracy: 0.9275 - val_loss: 0.2619 - val_accuracy: 0.9167\n",
            "Epoch 112/130\n",
            "72/72 [==============================] - 3s 44ms/step - loss: 0.2426 - accuracy: 0.9288 - val_loss: 0.1912 - val_accuracy: 0.9340\n",
            "Epoch 113/130\n",
            "72/72 [==============================] - 3s 43ms/step - loss: 0.1893 - accuracy: 0.9414 - val_loss: 0.0822 - val_accuracy: 0.9896\n",
            "Epoch 114/130\n",
            "72/72 [==============================] - 3s 43ms/step - loss: 0.1786 - accuracy: 0.9401 - val_loss: 0.0931 - val_accuracy: 0.9653\n",
            "Epoch 115/130\n",
            "72/72 [==============================] - 4s 54ms/step - loss: 0.2100 - accuracy: 0.9392 - val_loss: 0.1335 - val_accuracy: 0.9688\n",
            "Epoch 116/130\n",
            "72/72 [==============================] - 4s 52ms/step - loss: 0.2089 - accuracy: 0.9310 - val_loss: 0.0693 - val_accuracy: 0.9792\n",
            "Epoch 117/130\n",
            "72/72 [==============================] - 3s 44ms/step - loss: 0.1128 - accuracy: 0.9657 - val_loss: 0.0468 - val_accuracy: 0.9861\n",
            "Epoch 118/130\n",
            "72/72 [==============================] - 3s 44ms/step - loss: 0.1067 - accuracy: 0.9679 - val_loss: 0.0479 - val_accuracy: 0.9826\n",
            "Epoch 119/130\n",
            "72/72 [==============================] - 3s 44ms/step - loss: 0.2472 - accuracy: 0.9293 - val_loss: 0.2877 - val_accuracy: 0.9201\n",
            "Epoch 120/130\n",
            "72/72 [==============================] - 3s 43ms/step - loss: 0.4443 - accuracy: 0.8789 - val_loss: 0.2326 - val_accuracy: 0.9167\n",
            "Epoch 121/130\n",
            "72/72 [==============================] - 3s 43ms/step - loss: 0.3225 - accuracy: 0.9058 - val_loss: 0.1136 - val_accuracy: 0.9757\n",
            "Epoch 122/130\n",
            "72/72 [==============================] - 3s 44ms/step - loss: 0.2184 - accuracy: 0.9353 - val_loss: 0.1684 - val_accuracy: 0.9479\n",
            "Epoch 123/130\n",
            "72/72 [==============================] - 3s 43ms/step - loss: 0.2824 - accuracy: 0.9253 - val_loss: 0.1634 - val_accuracy: 0.9549\n",
            "Epoch 124/130\n",
            "72/72 [==============================] - 3s 43ms/step - loss: 0.2001 - accuracy: 0.9353 - val_loss: 0.0742 - val_accuracy: 0.9792\n",
            "Epoch 125/130\n",
            "72/72 [==============================] - 3s 43ms/step - loss: 0.1443 - accuracy: 0.9536 - val_loss: 0.0824 - val_accuracy: 0.9792\n",
            "Epoch 126/130\n",
            "72/72 [==============================] - 3s 43ms/step - loss: 0.1110 - accuracy: 0.9653 - val_loss: 0.0623 - val_accuracy: 0.9757\n",
            "Epoch 127/130\n",
            "72/72 [==============================] - 3s 43ms/step - loss: 0.1077 - accuracy: 0.9679 - val_loss: 0.1138 - val_accuracy: 0.9722\n",
            "Epoch 128/130\n",
            "72/72 [==============================] - 3s 44ms/step - loss: 0.2033 - accuracy: 0.9453 - val_loss: 0.8080 - val_accuracy: 0.8715\n",
            "Epoch 129/130\n",
            "72/72 [==============================] - 3s 44ms/step - loss: 0.3746 - accuracy: 0.9062 - val_loss: 0.2676 - val_accuracy: 0.9375\n",
            "Epoch 130/130\n",
            "72/72 [==============================] - 3s 44ms/step - loss: 0.2724 - accuracy: 0.9293 - val_loss: 0.1700 - val_accuracy: 0.9618\n"
          ]
        }
      ]
    },
    {
      "cell_type": "code",
      "source": [
        "#Loss Plots using LSTM model\n",
        "loss = history.history['loss']\n",
        "val_loss =history.history['val_loss']\n",
        "\n",
        "epochs = range(1, len(loss) + 1)\n",
        "\n",
        "plt.plot(epochs,loss,'ro',label='Training Loss')\n",
        "plt.plot(epochs,val_loss,'b',label='Validation Loss')\n",
        "plt.title('Training and Validation Loss')\n",
        "plt.xlabel('Epochs')\n",
        "plt.ylabel('Loss')\n",
        "plt.legend()\n",
        "\n",
        "plt.show"
      ],
      "metadata": {
        "colab": {
          "base_uri": "https://localhost:8080/",
          "height": 312
        },
        "id": "hqjtY5n7AvHY",
        "outputId": "32244c11-0186-4ca9-893e-6793c529031e"
      },
      "execution_count": 17,
      "outputs": [
        {
          "output_type": "execute_result",
          "data": {
            "text/plain": [
              "<function matplotlib.pyplot.show>"
            ]
          },
          "metadata": {},
          "execution_count": 17
        },
        {
          "output_type": "display_data",
          "data": {
            "text/plain": [
              "<Figure size 432x288 with 1 Axes>"
            ],
            "image/png": "[encoded data removed]"
          },
          "metadata": {
            "needs_background": "light"
          }
        }
      ]
    },
    {
      "cell_type": "code",
      "source": [
        "#Accuracy Plots using LSTM model\n",
        "\n",
        "acc = history.history['accuracy']\n",
        "val_acc = history.history['val_accuracy']\n",
        "\n",
        "plt.plot(epochs,acc,'ro',label='Training Accuracy')\n",
        "plt.plot(epochs,val_acc,'b',label='Validation Accuracy')\n",
        "plt.title('Training and Validation Accuracy')\n",
        "plt.xlabel('Epochs')\n",
        "plt.ylabel('Loss')\n",
        "plt.legend()\n",
        "\n",
        "plt.show"
      ],
      "metadata": {
        "colab": {
          "base_uri": "https://localhost:8080/",
          "height": 312
        },
        "id": "_ezAKSReAvDU",
        "outputId": "47a41860-8066-4bee-9ac2-6af00093e599"
      },
      "execution_count": 18,
      "outputs": [
        {
          "output_type": "execute_result",
          "data": {
            "text/plain": [
              "<function matplotlib.pyplot.show>"
            ]
          },
          "metadata": {},
          "execution_count": 18
        },
        {
          "output_type": "display_data",
          "data": {
            "text/plain": [
              "<Figure size 432x288 with 1 Axes>"
            ],
            "image/png": "[encoded data removed]"
          },
          "metadata": {
            "needs_background": "light"
          }
        }
      ]
    },
    {
      "cell_type": "code",
      "source": [
        "model_A.evaluate(np.expand_dims(ravdess_speech_data_array[training_samples + validation_samples:],-1), labels_categorical[training_samples + validation_samples:])"
      ],
      "metadata": {
        "colab": {
          "base_uri": "https://localhost:8080/"
        },
        "id": "PnTidSBRAvCP",
        "outputId": "66ee522c-5771-491a-b40d-c41aec65dfb4"
      },
      "execution_count": 19,
      "outputs": [
        {
          "output_type": "stream",
          "name": "stdout",
          "text": [
            "9/9 [==============================] - 0s 15ms/step - loss: 0.1712 - accuracy: 0.9514\n"
          ]
        },
        {
          "output_type": "execute_result",
          "data": {
            "text/plain": [
              "[0.17119421064853668, 0.9513888955116272]"
            ]
          },
          "metadata": {},
          "execution_count": 19
        }
      ]
    },
    {
      "cell_type": "code",
      "source": [
        "emotions={1: 'neutral', 2:'calm',3:'happy',4:'sad',5:'angry',6:'fearful',7:'disgust',8:'surprised'}\n",
        "def predict(wav_filepath):\n",
        "  test_point=extract_mfcc(wav_filepath)\n",
        "  test_point=np.reshape(test_point,newshape=(1,40,1))\n",
        "  predictions=model_A.predict(test_point)\n",
        "  print(emotions[np.argmax(predictions[0])+1])"
      ],
      "metadata": {
        "id": "iHUPYr_qAu-H"
      },
      "execution_count": 20,
      "outputs": []
    },
    {
      "cell_type": "code",
      "source": [
        "predict('/content/drive/MyDrive/RAVDESS_dataset/Actor_02/03-01-01-01-02-02-02.wav')"
      ],
      "metadata": {
        "colab": {
          "base_uri": "https://localhost:8080/"
        },
        "id": "S266q8TLAu9B",
        "outputId": "0df2967b-8a73-40dd-a28b-d40b9db39c21"
      },
      "execution_count": 27,
      "outputs": [
        {
          "output_type": "stream",
          "name": "stdout",
          "text": [
            "neutral\n"
          ]
        }
      ]
    },
    {
      "cell_type": "code",
      "source": [
        "model_A.save('mymodel.h5')"
      ],
      "metadata": {
        "id": "cahP-0lwAu5D"
      },
      "execution_count": null,
      "outputs": []
    },
    {
      "cell_type": "code",
      "source": [
        "modelc=tf.keras.models.load_model('mymodel.h5')"
      ],
      "metadata": {
        "id": "HF1b3oocAu3g"
      },
      "execution_count": null,
      "outputs": []
    },
    {
      "cell_type": "code",
      "source": [
        ""
      ],
      "metadata": {
        "id": "GT3xhGtHAuxY"
      },
      "execution_count": null,
      "outputs": []
    }
  ]
}